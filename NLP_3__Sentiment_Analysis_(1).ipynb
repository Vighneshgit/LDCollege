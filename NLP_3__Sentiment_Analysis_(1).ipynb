{
  "cells": [
    {
      "cell_type": "code",
      "execution_count": null,
      "metadata": {
        "id": "1TzeezEWRssR"
      },
      "outputs": [],
      "source": [
        "import numpy as np\n",
        "import seaborn as sns\n",
        "import nltk\n",
        "import matplotlib.pyplot as plt"
      ]
    },
    {
      "cell_type": "code",
      "execution_count": null,
      "metadata": {
        "id": "K1EiAqPISMmV"
      },
      "outputs": [],
      "source": [
        "# Sentiment Intensity Analyser\n",
        "nltk.download(\"vader_lexicon\")"
      ]
    },
    {
      "cell_type": "code",
      "execution_count": null,
      "metadata": {
        "id": "iiwCXa48SWEh"
      },
      "outputs": [],
      "source": [
        "nltk.download('popular')"
      ]
    },
    {
      "cell_type": "code",
      "execution_count": null,
      "metadata": {
        "id": "QxkRkbKTSkGg"
      },
      "outputs": [],
      "source": [
        "from nltk.sentiment.vader import SentimentIntensityAnalyzer\n",
        "\n",
        "siaz = SentimentIntensityAnalyzer()\n",
        "# Polarity Scores\n",
        "siaz.polarity_scores(\"Bad\")"
      ]
    },
    {
      "cell_type": "code",
      "execution_count": null,
      "metadata": {
        "id": "x5YZwrCbTItv"
      },
      "outputs": [],
      "source": [
        "siaz.polarity_scores(\"you are good\")"
      ]
    },
    {
      "cell_type": "code",
      "execution_count": null,
      "metadata": {
        "id": "qutf2beDTsEs"
      },
      "outputs": [],
      "source": [
        "siaz.polarity_scores(\"define\")"
      ]
    },
    {
      "cell_type": "code",
      "execution_count": null,
      "metadata": {
        "id": "Vp4QvDhJTyxo"
      },
      "outputs": [],
      "source": [
        "siaz.polarity_scores(\"river\")"
      ]
    },
    {
      "cell_type": "markdown",
      "metadata": {
        "id": "n0if1RJJU1Oh"
      },
      "source": [
        "##### Sentiment Analysis on Text"
      ]
    },
    {
      "cell_type": "code",
      "execution_count": null,
      "metadata": {
        "id": "8ijtAF41T3up"
      },
      "outputs": [],
      "source": [
        "import pandas as pd\n",
        "\n",
        "def visualize_sentiment(data):\n",
        "    sns.heatmap(pd.DataFrame(data).set_index(\"Sentence\").T, annot = True, cmap = \"RdPu\")"
      ]
    },
    {
      "cell_type": "code",
      "execution_count": null,
      "metadata": {
        "id": "ysD821PYVLuE"
      },
      "outputs": [],
      "source": [
        "sentence = \"Good Product\"\n",
        "sentence = sentence.lower()"
      ]
    },
    {
      "cell_type": "code",
      "execution_count": 17,
      "metadata": {
        "colab": {
          "base_uri": "https://localhost:8080/",
          "height": 455
        },
        "id": "O0RL7T3zWNUB",
        "outputId": "02868656-2e8a-4ae2-bae1-4a34f531e7c4"
      },
      "outputs": [
        {
          "output_type": "display_data",
          "data": {
            "text/plain": [
              "<Figure size 640x480 with 2 Axes>"
            ],
            "image/png": "[encoded data removed]"
          },
          "metadata": {}
        }
      ],
      "source": [
        "visualize_sentiment({\n",
        "    \"Sentence\" : [sentence] + sentence.split(),\n",
        "    \"Sentiment\" : [siaz.polarity_scores(sentence)[\"neu\"]] + [siaz.polarity_scores(word)[\"neu\"] for word in sentence.split()]\n",
        "})"
      ]
    },
    {
      "cell_type": "code",
      "execution_count": null,
      "metadata": {
        "id": "9dCS5CXOWRcz"
      },
      "outputs": [],
      "source": []
    }
  ],
  "metadata": {
    "colab": {
      "provenance": []
    },
    "kernelspec": {
      "display_name": "Python 3 (ipykernel)",
      "language": "python",
      "name": "python3"
    },
    "language_info": {
      "codemirror_mode": {
        "name": "ipython",
        "version": 3
      },
      "file_extension": ".py",
      "mimetype": "text/x-python",
      "name": "python",
      "nbconvert_exporter": "python",
      "pygments_lexer": "ipython3",
      "version": "3.10.9"
    }
  },
  "nbformat": 4,
  "nbformat_minor": 0
}